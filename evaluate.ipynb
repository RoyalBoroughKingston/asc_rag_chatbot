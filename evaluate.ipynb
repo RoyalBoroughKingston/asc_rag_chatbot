{
 "cells": [
  {
   "cell_type": "code",
   "execution_count": 26,
   "metadata": {},
   "outputs": [],
   "source": [
    "#Load libraries\n",
    "import pandas as pd\n",
    "import openai\n",
    "from openai import OpenAI\n",
    "import os\n",
    "from dotenv import load_dotenv\n",
    "from sklearn.metrics.pairwise import cosine_similarity\n"
   ]
  },
  {
   "cell_type": "code",
   "execution_count": 28,
   "metadata": {},
   "outputs": [],
   "source": [
    "#Load the environment variables from the .env file\n",
    "load_dotenv()\n",
    "key = os.environ.get(\"OPENAI_API_KEY\")"
   ]
  },
  {
   "cell_type": "code",
   "execution_count": 29,
   "metadata": {},
   "outputs": [],
   "source": [
    "#Initialise client\n",
    "client = OpenAI(api_key=key)"
   ]
  },
  {
   "cell_type": "code",
   "execution_count": 30,
   "metadata": {},
   "outputs": [],
   "source": [
    "#Specify the embedding model to be used\n",
    "EMBEDDING_MODEL = \"text-embedding-3-small\""
   ]
  },
  {
   "cell_type": "code",
   "execution_count": 31,
   "metadata": {},
   "outputs": [],
   "source": [
    "def get_embedding(text, model=EMBEDDING_MODEL):\n",
    "   text = text.replace(\"\\n\", \" \")\n",
    "   return client.embeddings.create(input = [text], model=model).data[0].embedding"
   ]
  },
  {
   "cell_type": "code",
   "execution_count": 32,
   "metadata": {},
   "outputs": [],
   "source": [
    "# Load the Excel file\n",
    "df = pd.read_excel('AI assistant -  questions and answers.xlsx')\n",
    "\n",
    "# Extract the columns of interest\n",
    "expected_responses = df['Answer']\n",
    "actual_responses = df['Actual Response']"
   ]
  },
  {
   "cell_type": "code",
   "execution_count": 33,
   "metadata": {},
   "outputs": [],
   "source": [
    "# Generate embeddings for each response in the columns\n",
    "expected_embeddings = [get_embedding(text) for text in expected_responses]\n",
    "actual_embeddings = [get_embedding(text) for text in actual_responses]"
   ]
  },
  {
   "cell_type": "code",
   "execution_count": 35,
   "metadata": {},
   "outputs": [],
   "source": [
    "# Reshape the embeddings to make them suitable for sklearn's cosine_similarity\n",
    "expected_embeddings_reshaped = [e_emb for e_emb in expected_embeddings]\n",
    "actual_embeddings_reshaped = [a_emb for a_emb in actual_embeddings]\n",
    "\n",
    "# Calculate similarities\n",
    "similarities = cosine_similarity(expected_embeddings_reshaped, actual_embeddings_reshaped)\n",
    "\n",
    "# Since cosine_similarity returns a matrix, extract the diagonal if comparing corresponding elements\n",
    "diagonal_similarities = similarities.diagonal()"
   ]
  },
  {
   "cell_type": "code",
   "execution_count": 36,
   "metadata": {},
   "outputs": [
    {
     "data": {
      "text/html": [
       "<div>\n",
       "<style scoped>\n",
       "    .dataframe tbody tr th:only-of-type {\n",
       "        vertical-align: middle;\n",
       "    }\n",
       "\n",
       "    .dataframe tbody tr th {\n",
       "        vertical-align: top;\n",
       "    }\n",
       "\n",
       "    .dataframe thead th {\n",
       "        text-align: right;\n",
       "    }\n",
       "</style>\n",
       "<table border=\"1\" class=\"dataframe\">\n",
       "  <thead>\n",
       "    <tr style=\"text-align: right;\">\n",
       "      <th></th>\n",
       "      <th>Answer</th>\n",
       "      <th>Actual Response</th>\n",
       "      <th>Similarity</th>\n",
       "    </tr>\n",
       "  </thead>\n",
       "  <tbody>\n",
       "    <tr>\n",
       "      <th>0</th>\n",
       "      <td>\\nYour {{mum}} may be able to get care from th...</td>\n",
       "      <td>N/A - used as an example for the model to lear...</td>\n",
       "      <td>0.170128</td>\n",
       "    </tr>\n",
       "    <tr>\n",
       "      <th>1</th>\n",
       "      <td>To find out what kind of care your {{dad}} nee...</td>\n",
       "      <td>To find out what kind of care your dad needs, ...</td>\n",
       "      <td>0.921740</td>\n",
       "    </tr>\n",
       "    <tr>\n",
       "      <th>2</th>\n",
       "      <td>You can explore what care you might need by co...</td>\n",
       "      <td>N/A - used as an example for the model to lear...</td>\n",
       "      <td>0.162183</td>\n",
       "    </tr>\n",
       "    <tr>\n",
       "      <th>3</th>\n",
       "      <td>When your {{mum}} leaves the hospital and need...</td>\n",
       "      <td>If your mum is in hospital and will need extra...</td>\n",
       "      <td>0.934490</td>\n",
       "    </tr>\n",
       "    <tr>\n",
       "      <th>4</th>\n",
       "      <td>To get an alarm for your {{gran}}, you have a ...</td>\n",
       "      <td>To get an alarm for your gran, you can explore...</td>\n",
       "      <td>0.921279</td>\n",
       "    </tr>\n",
       "    <tr>\n",
       "      <th>5</th>\n",
       "      <td>Whether or not you'll have to pay for your car...</td>\n",
       "      <td>Whether you will have to pay for your care dep...</td>\n",
       "      <td>0.885888</td>\n",
       "    </tr>\n",
       "    <tr>\n",
       "      <th>6</th>\n",
       "      <td>As a carer, you may be eligible for several ty...</td>\n",
       "      <td>As a carer, you may be eligible for various be...</td>\n",
       "      <td>0.950037</td>\n",
       "    </tr>\n",
       "    <tr>\n",
       "      <th>7</th>\n",
       "      <td>The council can help you get a stairlift. If y...</td>\n",
       "      <td>N/A - used as an example for the model to lear...</td>\n",
       "      <td>0.110636</td>\n",
       "    </tr>\n",
       "    <tr>\n",
       "      <th>8</th>\n",
       "      <td>\\nYou may be able to get a wet room for your d...</td>\n",
       "      <td>If you have a disabled daughter and are in nee...</td>\n",
       "      <td>0.929805</td>\n",
       "    </tr>\n",
       "    <tr>\n",
       "      <th>9</th>\n",
       "      <td>Kingston Council does not offer a meals on whe...</td>\n",
       "      <td>Kingston Council does not offer a meals on whe...</td>\n",
       "      <td>0.977705</td>\n",
       "    </tr>\n",
       "    <tr>\n",
       "      <th>10</th>\n",
       "      <td>Yes, there are several befriending and social ...</td>\n",
       "      <td>Yes, there are befriending options available f...</td>\n",
       "      <td>0.666504</td>\n",
       "    </tr>\n",
       "  </tbody>\n",
       "</table>\n",
       "</div>"
      ],
      "text/plain": [
       "                                               Answer  \\\n",
       "0   \\nYour {{mum}} may be able to get care from th...   \n",
       "1   To find out what kind of care your {{dad}} nee...   \n",
       "2   You can explore what care you might need by co...   \n",
       "3   When your {{mum}} leaves the hospital and need...   \n",
       "4   To get an alarm for your {{gran}}, you have a ...   \n",
       "5   Whether or not you'll have to pay for your car...   \n",
       "6   As a carer, you may be eligible for several ty...   \n",
       "7   The council can help you get a stairlift. If y...   \n",
       "8   \\nYou may be able to get a wet room for your d...   \n",
       "9   Kingston Council does not offer a meals on whe...   \n",
       "10  Yes, there are several befriending and social ...   \n",
       "\n",
       "                                      Actual Response  Similarity  \n",
       "0   N/A - used as an example for the model to lear...    0.170128  \n",
       "1   To find out what kind of care your dad needs, ...    0.921740  \n",
       "2   N/A - used as an example for the model to lear...    0.162183  \n",
       "3   If your mum is in hospital and will need extra...    0.934490  \n",
       "4   To get an alarm for your gran, you can explore...    0.921279  \n",
       "5   Whether you will have to pay for your care dep...    0.885888  \n",
       "6   As a carer, you may be eligible for various be...    0.950037  \n",
       "7   N/A - used as an example for the model to lear...    0.110636  \n",
       "8   If you have a disabled daughter and are in nee...    0.929805  \n",
       "9   Kingston Council does not offer a meals on whe...    0.977705  \n",
       "10  Yes, there are befriending options available f...    0.666504  "
      ]
     },
     "execution_count": 36,
     "metadata": {},
     "output_type": "execute_result"
    }
   ],
   "source": [
    "df['Similarity'] = diagonal_similarities\n",
    "\n",
    "# Display the results\n",
    "df[['Answer', 'Actual Response', 'Similarity']]  # Display the relevant columns"
   ]
  }
 ],
 "metadata": {
  "kernelspec": {
   "display_name": "Python 3",
   "language": "python",
   "name": "python3"
  },
  "language_info": {
   "codemirror_mode": {
    "name": "ipython",
    "version": 3
   },
   "file_extension": ".py",
   "mimetype": "text/x-python",
   "name": "python",
   "nbconvert_exporter": "python",
   "pygments_lexer": "ipython3",
   "version": "3.9.7"
  }
 },
 "nbformat": 4,
 "nbformat_minor": 2
}
