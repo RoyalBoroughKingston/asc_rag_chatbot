{
 "cells": [
  {
   "cell_type": "code",
   "execution_count": 3,
   "metadata": {},
   "outputs": [],
   "source": [
    "import requests\n",
    "import pandas as pd"
   ]
  },
  {
   "cell_type": "code",
   "execution_count": 2,
   "metadata": {},
   "outputs": [],
   "source": [
    "def download_webpages_from_csv(csv_file, output_dir, encoding='latin1'):\n",
    "    try:\n",
    "        # Read the CSV file with the specified encoding\n",
    "        df = pd.read_csv(csv_file, encoding=encoding)\n",
    "        \n",
    "        # Ensure the second column is correctly indexed\n",
    "        urls = df.iloc[:, 1]  # Assuming the second column contains the URLs\n",
    "\n",
    "        for index, url in enumerate(urls):\n",
    "            try:\n",
    "                # Fetch the webpage content\n",
    "                response = requests.get(url)\n",
    "                response.raise_for_status()  # Check if the request was successful\n",
    "\n",
    "                # Save the HTML content to a file\n",
    "                output_path = f\"{output_dir}/webpage_{index + 1}.html\"\n",
    "                with open(output_path, 'w', encoding='utf-8') as f:\n",
    "                    f.write(response.text)\n",
    "                print(f\"Webpage saved successfully to {output_path}\")\n",
    "\n",
    "            except requests.exceptions.RequestException as e:\n",
    "                print(f\"Error fetching the webpage for URL {url}: {e}\")\n",
    "\n",
    "    except UnicodeDecodeError:\n",
    "        print(f\"Error reading the CSV file with encoding '{encoding}'. Trying 'latin1'...\")\n",
    "        download_webpages_from_csv(csv_file, output_dir, encoding='latin1')\n",
    "    except Exception as e:\n",
    "        print(f\"Error reading the CSV file: {e}\")"
   ]
  },
  {
   "cell_type": "code",
   "execution_count": 3,
   "metadata": {},
   "outputs": [
    {
     "name": "stdout",
     "output_type": "stream",
     "text": [
      "Webpage saved successfully to downloaded_pdfs/webpage_1.html\n",
      "Webpage saved successfully to downloaded_pdfs/webpage_2.html\n",
      "Webpage saved successfully to downloaded_pdfs/webpage_3.html\n",
      "Webpage saved successfully to downloaded_pdfs/webpage_4.html\n",
      "Webpage saved successfully to downloaded_pdfs/webpage_5.html\n",
      "Webpage saved successfully to downloaded_pdfs/webpage_6.html\n",
      "Webpage saved successfully to downloaded_pdfs/webpage_7.html\n",
      "Webpage saved successfully to downloaded_pdfs/webpage_8.html\n",
      "Webpage saved successfully to downloaded_pdfs/webpage_9.html\n",
      "Webpage saved successfully to downloaded_pdfs/webpage_10.html\n",
      "Webpage saved successfully to downloaded_pdfs/webpage_11.html\n",
      "Webpage saved successfully to downloaded_pdfs/webpage_12.html\n",
      "Webpage saved successfully to downloaded_pdfs/webpage_13.html\n",
      "Webpage saved successfully to downloaded_pdfs/webpage_14.html\n",
      "Webpage saved successfully to downloaded_pdfs/webpage_15.html\n",
      "Webpage saved successfully to downloaded_pdfs/webpage_16.html\n",
      "Webpage saved successfully to downloaded_pdfs/webpage_17.html\n",
      "Webpage saved successfully to downloaded_pdfs/webpage_18.html\n",
      "Webpage saved successfully to downloaded_pdfs/webpage_19.html\n",
      "Webpage saved successfully to downloaded_pdfs/webpage_20.html\n",
      "Webpage saved successfully to downloaded_pdfs/webpage_21.html\n",
      "Webpage saved successfully to downloaded_pdfs/webpage_22.html\n",
      "Webpage saved successfully to downloaded_pdfs/webpage_23.html\n",
      "Webpage saved successfully to downloaded_pdfs/webpage_24.html\n",
      "Webpage saved successfully to downloaded_pdfs/webpage_25.html\n",
      "Webpage saved successfully to downloaded_pdfs/webpage_26.html\n",
      "Webpage saved successfully to downloaded_pdfs/webpage_27.html\n",
      "Webpage saved successfully to downloaded_pdfs/webpage_28.html\n",
      "Webpage saved successfully to downloaded_pdfs/webpage_29.html\n",
      "Webpage saved successfully to downloaded_pdfs/webpage_30.html\n",
      "Webpage saved successfully to downloaded_pdfs/webpage_31.html\n",
      "Webpage saved successfully to downloaded_pdfs/webpage_32.html\n"
     ]
    }
   ],
   "source": [
    "# Usage example\n",
    "csv_file = 'asc_website.csv'\n",
    "output_dir = 'downloaded_pdfs'  # Ensure this directory exists\n",
    "download_webpages_from_csv(csv_file, output_dir)"
   ]
  }
 ],
 "metadata": {
  "kernelspec": {
   "display_name": "Python 3",
   "language": "python",
   "name": "python3"
  },
  "language_info": {
   "codemirror_mode": {
    "name": "ipython",
    "version": 3
   },
   "file_extension": ".py",
   "mimetype": "text/x-python",
   "name": "python",
   "nbconvert_exporter": "python",
   "pygments_lexer": "ipython3",
   "version": "3.9.7"
  }
 },
 "nbformat": 4,
 "nbformat_minor": 2
}
